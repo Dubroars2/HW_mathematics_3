{
 "cells": [
  {
   "cell_type": "code",
   "execution_count": null,
   "metadata": {},
   "outputs": [],
   "source": [
    "#Задание 1:\n",
    "\"\"\"\n",
    "Монетку подбрасывают 15 раз, найдите вероятность выпадения простого числа орлов.\n",
    "\"\"\""
   ]
  },
  {
   "cell_type": "code",
   "execution_count": 114,
   "metadata": {},
   "outputs": [
    {
     "name": "stdout",
     "output_type": "stream",
     "text": [
      "Число удачных случаев выпадения орла: 7\n",
      "Вероятность выпадения орла: 0.47\n"
     ]
    }
   ],
   "source": [
    "from scipy.stats import *\n",
    "p = bernoulli.rvs(size = 15 , p = 0.5)\n",
    "k = 0\n",
    "for i in p:\n",
    "    if int(i) == 1:\n",
    "        k += i\n",
    "print(f'Число удачных случаев выпадения орла: {k}')\n",
    "print(f'Вероятность выпадения орла: {round(k / 15,2)}')\n",
    "\n",
    "\n"
   ]
  },
  {
   "cell_type": "code",
   "execution_count": null,
   "metadata": {},
   "outputs": [],
   "source": [
    "#Задание 2:\n",
    "\"\"\"\n",
    "Создайте свою дискретную случайную величину с не менее, чем 10 значениями. \n",
    "Просемплируйте 1000 случайных значений, постройте гистограмму плотности распределения по выборке, \n",
    "посчитайте среднее, дисперсию и медиану.\n",
    "\"\"\""
   ]
  },
  {
   "cell_type": "code",
   "execution_count": 53,
   "metadata": {},
   "outputs": [
    {
     "data": {
      "text/plain": [
       "array([1, 8, 2, 3, 7, 1, 1, 1, 9, 0])"
      ]
     },
     "execution_count": 53,
     "metadata": {},
     "output_type": "execute_result"
    }
   ],
   "source": [
    "import numpy as np\n",
    "a = np.random.randint(10, size = 10)\n",
    "a\n",
    "\n",
    "\"\"\"\n",
    "1. Правильно ли говорить, что это и есть создание случайно дискретной величины с не менее 10 значениями?\n",
    "2. Не могу понять про семплирование. Это подразумевает под собой какое-то действие, но вот какое. \n",
    "Просто прогнать 1000 раз случайную генерацию чисел?\n",
    "Что значит просемплировать 1000 случайных значений. Можно ли где-нибудь посмотреть примеры? \n",
    "\"\"\""
   ]
  }
 ],
 "metadata": {
  "kernelspec": {
   "display_name": "Python 3",
   "language": "python",
   "name": "python3"
  },
  "language_info": {
   "codemirror_mode": {
    "name": "ipython",
    "version": 3
   },
   "file_extension": ".py",
   "mimetype": "text/x-python",
   "name": "python",
   "nbconvert_exporter": "python",
   "pygments_lexer": "ipython3",
   "version": "3.8.5"
  }
 },
 "nbformat": 4,
 "nbformat_minor": 4
}
